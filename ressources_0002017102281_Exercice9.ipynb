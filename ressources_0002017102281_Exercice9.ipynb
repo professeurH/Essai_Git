{
 "cells": [
  {
   "cell_type": "markdown",
   "metadata": {},
   "source": [
    "# Chapitre 7 : La photographie numérique"
   ]
  },
  {
   "cell_type": "markdown",
   "metadata": {},
   "source": [
    "### Exercice 9 : Etudier la transformation d'une photographie pixel par pixel à l'aide d'un programme écrit en langage Python"
   ]
  },
  {
   "cell_type": "markdown",
   "metadata": {},
   "source": [
    "**Enoncé page 121 du manuel**"
   ]
  },
  {
   "cell_type": "markdown",
   "metadata": {},
   "source": [
    "**Question 1.** \n",
    "\n",
    "Télécharger le programme Python dans l'espace numérique."
   ]
  },
  {
   "cell_type": "code",
   "execution_count": null,
   "metadata": {},
   "outputs": [],
   "source": [
    "from PIL import Image\n",
    "\n",
    "def ouvre_image(file):\n",
    "    im=Image.open(file)\n",
    "    #im.show()\n",
    "    return im\n",
    "\n",
    "def inv_image(file):\n",
    "    im=Image.open(file)  # charge l'image dans la variable im\n",
    "    largeur,hauteur=im.size       # récupère les dimensions de l'image dans les variables largeur et hauteur\n",
    "\n",
    "    im2=Image.new(\"RGB\",(largeur,hauteur),\"black\")  # crée une image noire aux dimensions largeur*hauteur\n",
    "    im2.save(\"file2\",\"JPEG\")   # enregistre, nomme l'image dans le format demandé\n",
    "\n",
    "    for i in range(largeur):\n",
    "        for j in range(hauteur):\n",
    "            p=im.getpixel((i,j))        # récupère le pixel situé en colonne i et ligne j\n",
    "            r=255-p[0]                  # ...\n",
    "            g=255-p[1]                  # ...\n",
    "            b=255-p[2]                  # ...\n",
    "            im2.putpixel((i,j),(r,g,b)) # affecte au pixel de la colonne i et ligne j le nouveau pixel (r,g,b)\n",
    "    #im2.show()\n",
    "    return im2"
   ]
  },
  {
   "cell_type": "markdown",
   "metadata": {},
   "source": [
    "Test de la fonction `ouvre_image` (un fichier image nommé `planete.jpg` doit être enregistré dans le même dossier que ce fichier) :"
   ]
  },
  {
   "cell_type": "code",
   "execution_count": null,
   "metadata": {},
   "outputs": [],
   "source": [
    "ouvre_image(\"planete.jpg\")"
   ]
  },
  {
   "cell_type": "markdown",
   "metadata": {},
   "source": [
    "Test de la fonction `inv_image` (un fichier image nommé `planete.jpg` doit être enregistré dans le même dossier que ce fichier) :"
   ]
  },
  {
   "cell_type": "code",
   "execution_count": null,
   "metadata": {},
   "outputs": [],
   "source": [
    "inv_image(\"planete.jpg\")"
   ]
  },
  {
   "cell_type": "markdown",
   "metadata": {},
   "source": [
    "**Question 2.** \n",
    "\n",
    "Quelle est la transformation faite à l'aide de ce programme ?"
   ]
  },
  {
   "cell_type": "raw",
   "metadata": {},
   "source": [
    "\n",
    "\n"
   ]
  },
  {
   "cell_type": "markdown",
   "metadata": {},
   "source": [
    "**Question 3.** \n",
    "\n",
    "Quels commentaires ajouterez-vous face aux lignes sans commentaires ?"
   ]
  },
  {
   "cell_type": "raw",
   "metadata": {},
   "source": [
    "\n",
    "\n",
    "\n"
   ]
  },
  {
   "cell_type": "markdown",
   "metadata": {},
   "source": [
    "**Question 4.** \n",
    "\n",
    "Pourquoi faut-il créer une seconde image ?"
   ]
  },
  {
   "cell_type": "raw",
   "metadata": {},
   "source": [
    "\n",
    "\n",
    "\n"
   ]
  }
 ],
 "metadata": {
  "kernelspec": {
   "display_name": "Python 3",
   "language": "python",
   "name": "python3"
  },
  "language_info": {
   "codemirror_mode": {
    "name": "ipython",
    "version": 3
   },
   "file_extension": ".py",
   "mimetype": "text/x-python",
   "name": "python",
   "nbconvert_exporter": "python",
   "pygments_lexer": "ipython3",
   "version": "3.7.0"
  }
 },
 "nbformat": 4,
 "nbformat_minor": 2
}
